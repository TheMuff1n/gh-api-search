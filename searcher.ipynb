{
 "cells": [
  {
   "cell_type": "markdown",
   "metadata": {},
   "source": [
    "Installing required dependencies"
   ]
  },
  {
   "cell_type": "code",
   "execution_count": 1,
   "metadata": {},
   "outputs": [
    {
     "name": "stdout",
     "output_type": "stream",
     "text": [
      "Requirement already satisfied: gql[all] in c:\\users\\muffi\\development\\gh-api-search\\.venv\\lib\\site-packages (3.4.1)\n",
      "Requirement already satisfied: yarl<2.0,>=1.6 in c:\\users\\muffi\\development\\gh-api-search\\.venv\\lib\\site-packages (from gql[all]) (1.9.2)\n",
      "Requirement already satisfied: backoff<3.0,>=1.11.1 in c:\\users\\muffi\\development\\gh-api-search\\.venv\\lib\\site-packages (from gql[all]) (2.2.1)\n",
      "Requirement already satisfied: graphql-core<3.3,>=3.2 in c:\\users\\muffi\\development\\gh-api-search\\.venv\\lib\\site-packages (from gql[all]) (3.2.3)\n",
      "Requirement already satisfied: websockets<11,>=10 in c:\\users\\muffi\\development\\gh-api-search\\.venv\\lib\\site-packages (from gql[all]) (10.4)\n",
      "Requirement already satisfied: urllib3<2,>=1.26 in c:\\users\\muffi\\development\\gh-api-search\\.venv\\lib\\site-packages (from gql[all]) (1.26.17)\n",
      "Requirement already satisfied: requests<3,>=2.26 in c:\\users\\muffi\\development\\gh-api-search\\.venv\\lib\\site-packages (from gql[all]) (2.31.0)\n",
      "Requirement already satisfied: botocore<2,>=1.21 in c:\\users\\muffi\\development\\gh-api-search\\.venv\\lib\\site-packages (from gql[all]) (1.31.62)\n",
      "Requirement already satisfied: requests-toolbelt<1,>=0.9.1 in c:\\users\\muffi\\development\\gh-api-search\\.venv\\lib\\site-packages (from gql[all]) (0.10.1)\n",
      "Requirement already satisfied: aiohttp<3.9.0,>=3.7.1 in c:\\users\\muffi\\development\\gh-api-search\\.venv\\lib\\site-packages (from gql[all]) (3.8.6)\n",
      "Requirement already satisfied: attrs>=17.3.0 in c:\\users\\muffi\\development\\gh-api-search\\.venv\\lib\\site-packages (from aiohttp<3.9.0,>=3.7.1->gql[all]) (23.1.0)\n",
      "Requirement already satisfied: multidict<7.0,>=4.5 in c:\\users\\muffi\\development\\gh-api-search\\.venv\\lib\\site-packages (from aiohttp<3.9.0,>=3.7.1->gql[all]) (6.0.4)\n",
      "Requirement already satisfied: async-timeout<5.0,>=4.0.0a3 in c:\\users\\muffi\\development\\gh-api-search\\.venv\\lib\\site-packages (from aiohttp<3.9.0,>=3.7.1->gql[all]) (4.0.3)\n",
      "Requirement already satisfied: charset-normalizer<4.0,>=2.0 in c:\\users\\muffi\\development\\gh-api-search\\.venv\\lib\\site-packages (from aiohttp<3.9.0,>=3.7.1->gql[all]) (3.3.0)\n",
      "Requirement already satisfied: frozenlist>=1.1.1 in c:\\users\\muffi\\development\\gh-api-search\\.venv\\lib\\site-packages (from aiohttp<3.9.0,>=3.7.1->gql[all]) (1.4.0)\n",
      "Requirement already satisfied: aiosignal>=1.1.2 in c:\\users\\muffi\\development\\gh-api-search\\.venv\\lib\\site-packages (from aiohttp<3.9.0,>=3.7.1->gql[all]) (1.3.1)\n",
      "Requirement already satisfied: jmespath<2.0.0,>=0.7.1 in c:\\users\\muffi\\development\\gh-api-search\\.venv\\lib\\site-packages (from botocore<2,>=1.21->gql[all]) (1.0.1)\n",
      "Requirement already satisfied: python-dateutil<3.0.0,>=2.1 in c:\\users\\muffi\\development\\gh-api-search\\.venv\\lib\\site-packages (from botocore<2,>=1.21->gql[all]) (2.8.2)\n",
      "Requirement already satisfied: certifi>=2017.4.17 in c:\\users\\muffi\\development\\gh-api-search\\.venv\\lib\\site-packages (from requests<3,>=2.26->gql[all]) (2023.7.22)\n",
      "Requirement already satisfied: idna<4,>=2.5 in c:\\users\\muffi\\development\\gh-api-search\\.venv\\lib\\site-packages (from requests<3,>=2.26->gql[all]) (3.4)\n",
      "Requirement already satisfied: six>=1.5 in c:\\users\\muffi\\development\\gh-api-search\\.venv\\lib\\site-packages (from python-dateutil<3.0.0,>=2.1->botocore<2,>=1.21->gql[all]) (1.16.0)\n"
     ]
    },
    {
     "name": "stderr",
     "output_type": "stream",
     "text": [
      "WARNING: You are using pip version 22.0.4; however, version 23.2.1 is available.\n",
      "You should consider upgrading via the 'C:\\Users\\muffi\\Development\\gh-api-search\\.venv\\Scripts\\python.exe -m pip install --upgrade pip' command.\n"
     ]
    }
   ],
   "source": [
    "! pip install \"gql[all]\""
   ]
  },
  {
   "cell_type": "markdown",
   "metadata": {},
   "source": [
    "Setting up the gql library"
   ]
  },
  {
   "cell_type": "code",
   "execution_count": 2,
   "metadata": {},
   "outputs": [],
   "source": [
    "from gql import gql, Client\n",
    "from gql.transport.aiohttp import AIOHTTPTransport\n",
    "from os import environ\n",
    "\n",
    "bearer_token = environ.get(\"API_KEY\")\n",
    "headers = {\n",
    "  \"Authorization\": f\"bearer {bearer_token}\"\n",
    "}\n",
    "transport = AIOHTTPTransport(url=\"https://api.github.com/graphql\", headers=headers)\n",
    "\n",
    "client = Client(transport=transport, fetch_schema_from_transport=True)"
   ]
  },
  {
   "cell_type": "code",
   "execution_count": 3,
   "metadata": {},
   "outputs": [],
   "source": [
    "query = gql(\n",
    "    \"\"\"\n",
    "query Search($query:String!, $first:Int! $cursor:String) {\n",
    "    math: search(\n",
    "        query: $query\n",
    "        type: REPOSITORY\n",
    "        first: $first\n",
    "        after: $cursor\n",
    "    ) {\n",
    "        repositoryCount\n",
    "        edges {\n",
    "            node {\n",
    "                ... on Repository {\n",
    "                    nameWithOwner\n",
    "                    url\n",
    "                    homepageUrl\n",
    "                    primaryLanguage {\n",
    "                        name\n",
    "                    }\n",
    "                    forks {\n",
    "                        totalCount\n",
    "                    }\n",
    "                    stargazers {\n",
    "                        totalCount\n",
    "                    }\n",
    "                    description\n",
    "                    readme_master: object(expression: \"master:README.md\") {\n",
    "                        ... on Blob {\n",
    "                            text\n",
    "                        }\n",
    "                    }\n",
    "                    readme_main: object(expression: \"main:README.md\") {\n",
    "                        ... on Blob {\n",
    "                            text\n",
    "                        }\n",
    "                    }\n",
    "                    defaultBranchRef {\n",
    "                        target {\n",
    "                            ... on Commit {\n",
    "                                tree {\n",
    "                                    files: entries {\n",
    "                                        name\n",
    "                                    }\n",
    "                                }\n",
    "                            }\n",
    "                        }\n",
    "                    }\n",
    "                }\n",
    "            }\n",
    "        }\n",
    "        pageInfo {\n",
    "            endCursor\n",
    "            hasNextPage\n",
    "        }\n",
    "    }\n",
    "    rateLimit {\n",
    "        limit\n",
    "        cost\n",
    "        remaining\n",
    "        resetAt\n",
    "    }\n",
    "}\n",
    "\n",
    "\"\"\"\n",
    ")"
   ]
  },
  {
   "cell_type": "code",
   "execution_count": 4,
   "metadata": {},
   "outputs": [
    {
     "ename": "TimeoutError",
     "evalue": "",
     "output_type": "error",
     "traceback": [
      "\u001b[1;31m---------------------------------------------------------------------------\u001b[0m",
      "\u001b[1;31mCancelledError\u001b[0m                            Traceback (most recent call last)",
      "File \u001b[1;32mc:\\Users\\muffi\\Development\\gh-api-search\\.venv\\lib\\site-packages\\gql\\transport\\aiohttp.py:316\u001b[0m, in \u001b[0;36mAIOHTTPTransport.execute\u001b[1;34m(self, document, variable_values, operation_name, extra_args, upload_files)\u001b[0m\n\u001b[0;32m    315\u001b[0m \u001b[39mtry\u001b[39;00m:\n\u001b[1;32m--> 316\u001b[0m     result \u001b[39m=\u001b[39m \u001b[39mawait\u001b[39;00m resp\u001b[39m.\u001b[39mjson(content_type\u001b[39m=\u001b[39m\u001b[39mNone\u001b[39;00m)\n\u001b[0;32m    318\u001b[0m     \u001b[39mif\u001b[39;00m log\u001b[39m.\u001b[39misEnabledFor(logging\u001b[39m.\u001b[39mINFO):\n",
      "File \u001b[1;32mc:\\Users\\muffi\\Development\\gh-api-search\\.venv\\lib\\site-packages\\aiohttp\\client_reqrep.py:1100\u001b[0m, in \u001b[0;36mClientResponse.json\u001b[1;34m(self, encoding, loads, content_type)\u001b[0m\n\u001b[0;32m   1099\u001b[0m \u001b[39mif\u001b[39;00m \u001b[39mself\u001b[39m\u001b[39m.\u001b[39m_body \u001b[39mis\u001b[39;00m \u001b[39mNone\u001b[39;00m:\n\u001b[1;32m-> 1100\u001b[0m     \u001b[39mawait\u001b[39;00m \u001b[39mself\u001b[39m\u001b[39m.\u001b[39mread()\n\u001b[0;32m   1102\u001b[0m \u001b[39mif\u001b[39;00m content_type:\n",
      "File \u001b[1;32mc:\\Users\\muffi\\Development\\gh-api-search\\.venv\\lib\\site-packages\\aiohttp\\client_reqrep.py:1043\u001b[0m, in \u001b[0;36mClientResponse.read\u001b[1;34m(self)\u001b[0m\n\u001b[0;32m   1042\u001b[0m \u001b[39mtry\u001b[39;00m:\n\u001b[1;32m-> 1043\u001b[0m     \u001b[39mself\u001b[39m\u001b[39m.\u001b[39m_body \u001b[39m=\u001b[39m \u001b[39mawait\u001b[39;00m \u001b[39mself\u001b[39m\u001b[39m.\u001b[39mcontent\u001b[39m.\u001b[39mread()\n\u001b[0;32m   1044\u001b[0m     \u001b[39mfor\u001b[39;00m trace \u001b[39min\u001b[39;00m \u001b[39mself\u001b[39m\u001b[39m.\u001b[39m_traces:\n",
      "File \u001b[1;32mc:\\Users\\muffi\\Development\\gh-api-search\\.venv\\lib\\site-packages\\aiohttp\\streams.py:375\u001b[0m, in \u001b[0;36mStreamReader.read\u001b[1;34m(self, n)\u001b[0m\n\u001b[0;32m    374\u001b[0m \u001b[39mwhile\u001b[39;00m \u001b[39mTrue\u001b[39;00m:\n\u001b[1;32m--> 375\u001b[0m     block \u001b[39m=\u001b[39m \u001b[39mawait\u001b[39;00m \u001b[39mself\u001b[39m\u001b[39m.\u001b[39mreadany()\n\u001b[0;32m    376\u001b[0m     \u001b[39mif\u001b[39;00m \u001b[39mnot\u001b[39;00m block:\n",
      "File \u001b[1;32mc:\\Users\\muffi\\Development\\gh-api-search\\.venv\\lib\\site-packages\\aiohttp\\streams.py:397\u001b[0m, in \u001b[0;36mStreamReader.readany\u001b[1;34m(self)\u001b[0m\n\u001b[0;32m    396\u001b[0m \u001b[39mwhile\u001b[39;00m \u001b[39mnot\u001b[39;00m \u001b[39mself\u001b[39m\u001b[39m.\u001b[39m_buffer \u001b[39mand\u001b[39;00m \u001b[39mnot\u001b[39;00m \u001b[39mself\u001b[39m\u001b[39m.\u001b[39m_eof:\n\u001b[1;32m--> 397\u001b[0m     \u001b[39mawait\u001b[39;00m \u001b[39mself\u001b[39m\u001b[39m.\u001b[39m_wait(\u001b[39m\"\u001b[39m\u001b[39mreadany\u001b[39m\u001b[39m\"\u001b[39m)\n\u001b[0;32m    399\u001b[0m \u001b[39mreturn\u001b[39;00m \u001b[39mself\u001b[39m\u001b[39m.\u001b[39m_read_nowait(\u001b[39m-\u001b[39m\u001b[39m1\u001b[39m)\n",
      "File \u001b[1;32mc:\\Users\\muffi\\Development\\gh-api-search\\.venv\\lib\\site-packages\\aiohttp\\streams.py:304\u001b[0m, in \u001b[0;36mStreamReader._wait\u001b[1;34m(self, func_name)\u001b[0m\n\u001b[0;32m    303\u001b[0m     \u001b[39mwith\u001b[39;00m \u001b[39mself\u001b[39m\u001b[39m.\u001b[39m_timer:\n\u001b[1;32m--> 304\u001b[0m         \u001b[39mawait\u001b[39;00m waiter\n\u001b[0;32m    305\u001b[0m \u001b[39melse\u001b[39;00m:\n",
      "\u001b[1;31mCancelledError\u001b[0m: ",
      "\nDuring handling of the above exception, another exception occurred:\n",
      "\u001b[1;31mCancelledError\u001b[0m                            Traceback (most recent call last)",
      "File \u001b[1;32mC:\\Program Files\\WindowsApps\\PythonSoftwareFoundation.Python.3.9_3.9.3568.0_x64__qbz5n2kfra8p0\\lib\\asyncio\\tasks.py:490\u001b[0m, in \u001b[0;36mwait_for\u001b[1;34m(fut, timeout, loop)\u001b[0m\n\u001b[0;32m    489\u001b[0m \u001b[39mtry\u001b[39;00m:\n\u001b[1;32m--> 490\u001b[0m     \u001b[39mreturn\u001b[39;00m fut\u001b[39m.\u001b[39;49mresult()\n\u001b[0;32m    491\u001b[0m \u001b[39mexcept\u001b[39;00m exceptions\u001b[39m.\u001b[39mCancelledError \u001b[39mas\u001b[39;00m exc:\n",
      "\u001b[1;31mCancelledError\u001b[0m: ",
      "\nThe above exception was the direct cause of the following exception:\n",
      "\u001b[1;31mTimeoutError\u001b[0m                              Traceback (most recent call last)",
      "\u001b[1;32mc:\\Users\\muffi\\Development\\gh-api-search\\searcher.ipynb Cell 6\u001b[0m line \u001b[0;36m5\n\u001b[0;32m      <a href='vscode-notebook-cell:/c%3A/Users/muffi/Development/gh-api-search/searcher.ipynb#W5sZmlsZQ%3D%3D?line=0'>1</a>\u001b[0m params \u001b[39m=\u001b[39m {\n\u001b[0;32m      <a href='vscode-notebook-cell:/c%3A/Users/muffi/Development/gh-api-search/searcher.ipynb#W5sZmlsZQ%3D%3D?line=1'>2</a>\u001b[0m   \u001b[39m\"\u001b[39m\u001b[39mquery\u001b[39m\u001b[39m\"\u001b[39m: \u001b[39m\"\u001b[39m\u001b[39mapplied math doi in:readme,description created:2023\u001b[39m\u001b[39m\"\u001b[39m,\n\u001b[0;32m      <a href='vscode-notebook-cell:/c%3A/Users/muffi/Development/gh-api-search/searcher.ipynb#W5sZmlsZQ%3D%3D?line=2'>3</a>\u001b[0m   \u001b[39m\"\u001b[39m\u001b[39mfirst\u001b[39m\u001b[39m\"\u001b[39m: \u001b[39m100\u001b[39m\n\u001b[0;32m      <a href='vscode-notebook-cell:/c%3A/Users/muffi/Development/gh-api-search/searcher.ipynb#W5sZmlsZQ%3D%3D?line=3'>4</a>\u001b[0m }\n\u001b[1;32m----> <a href='vscode-notebook-cell:/c%3A/Users/muffi/Development/gh-api-search/searcher.ipynb#W5sZmlsZQ%3D%3D?line=4'>5</a>\u001b[0m result \u001b[39m=\u001b[39m \u001b[39mawait\u001b[39;00m client\u001b[39m.\u001b[39mexecute_async(query, variable_values\u001b[39m=\u001b[39mparams)\n",
      "File \u001b[1;32mc:\\Users\\muffi\\Development\\gh-api-search\\.venv\\lib\\site-packages\\gql\\client.py:285\u001b[0m, in \u001b[0;36mClient.execute_async\u001b[1;34m(self, document, variable_values, operation_name, serialize_variables, parse_result, get_execution_result, **kwargs)\u001b[0m\n\u001b[0;32m    283\u001b[0m \u001b[39m\u001b[39m\u001b[39m\"\"\":meta private:\"\"\"\u001b[39;00m\n\u001b[0;32m    284\u001b[0m \u001b[39masync\u001b[39;00m \u001b[39mwith\u001b[39;00m \u001b[39mself\u001b[39m \u001b[39mas\u001b[39;00m session:\n\u001b[1;32m--> 285\u001b[0m     \u001b[39mreturn\u001b[39;00m \u001b[39mawait\u001b[39;00m session\u001b[39m.\u001b[39mexecute(\n\u001b[0;32m    286\u001b[0m         document,\n\u001b[0;32m    287\u001b[0m         variable_values\u001b[39m=\u001b[39mvariable_values,\n\u001b[0;32m    288\u001b[0m         operation_name\u001b[39m=\u001b[39moperation_name,\n\u001b[0;32m    289\u001b[0m         serialize_variables\u001b[39m=\u001b[39mserialize_variables,\n\u001b[0;32m    290\u001b[0m         parse_result\u001b[39m=\u001b[39mparse_result,\n\u001b[0;32m    291\u001b[0m         get_execution_result\u001b[39m=\u001b[39mget_execution_result,\n\u001b[0;32m    292\u001b[0m         \u001b[39m*\u001b[39m\u001b[39m*\u001b[39mkwargs,\n\u001b[0;32m    293\u001b[0m     )\n",
      "File \u001b[1;32mc:\\Users\\muffi\\Development\\gh-api-search\\.venv\\lib\\site-packages\\gql\\client.py:1220\u001b[0m, in \u001b[0;36mAsyncClientSession.execute\u001b[1;34m(self, document, variable_values, operation_name, serialize_variables, parse_result, get_execution_result, **kwargs)\u001b[0m\n\u001b[0;32m   1200\u001b[0m \u001b[39m\u001b[39m\u001b[39m\"\"\"Coroutine to execute the provided document AST asynchronously using\u001b[39;00m\n\u001b[0;32m   1201\u001b[0m \u001b[39mthe async transport.\u001b[39;00m\n\u001b[0;32m   1202\u001b[0m \n\u001b[1;32m   (...)\u001b[0m\n\u001b[0;32m   1216\u001b[0m \n\u001b[0;32m   1217\u001b[0m \u001b[39mThe extra arguments are passed to the transport execute method.\"\"\"\u001b[39;00m\n\u001b[0;32m   1219\u001b[0m \u001b[39m# Validate and execute on the transport\u001b[39;00m\n\u001b[1;32m-> 1220\u001b[0m result \u001b[39m=\u001b[39m \u001b[39mawait\u001b[39;00m \u001b[39mself\u001b[39m\u001b[39m.\u001b[39m_execute(\n\u001b[0;32m   1221\u001b[0m     document,\n\u001b[0;32m   1222\u001b[0m     variable_values\u001b[39m=\u001b[39mvariable_values,\n\u001b[0;32m   1223\u001b[0m     operation_name\u001b[39m=\u001b[39moperation_name,\n\u001b[0;32m   1224\u001b[0m     serialize_variables\u001b[39m=\u001b[39mserialize_variables,\n\u001b[0;32m   1225\u001b[0m     parse_result\u001b[39m=\u001b[39mparse_result,\n\u001b[0;32m   1226\u001b[0m     \u001b[39m*\u001b[39m\u001b[39m*\u001b[39mkwargs,\n\u001b[0;32m   1227\u001b[0m )\n\u001b[0;32m   1229\u001b[0m \u001b[39m# Raise an error if an error is returned in the ExecutionResult object\u001b[39;00m\n\u001b[0;32m   1230\u001b[0m \u001b[39mif\u001b[39;00m result\u001b[39m.\u001b[39merrors:\n",
      "File \u001b[1;32mc:\\Users\\muffi\\Development\\gh-api-search\\.venv\\lib\\site-packages\\gql\\client.py:1126\u001b[0m, in \u001b[0;36mAsyncClientSession._execute\u001b[1;34m(self, document, variable_values, operation_name, serialize_variables, parse_result, **kwargs)\u001b[0m\n\u001b[0;32m   1118\u001b[0m             variable_values \u001b[39m=\u001b[39m serialize_variable_values(\n\u001b[0;32m   1119\u001b[0m                 \u001b[39mself\u001b[39m\u001b[39m.\u001b[39mclient\u001b[39m.\u001b[39mschema,\n\u001b[0;32m   1120\u001b[0m                 document,\n\u001b[0;32m   1121\u001b[0m                 variable_values,\n\u001b[0;32m   1122\u001b[0m                 operation_name\u001b[39m=\u001b[39moperation_name,\n\u001b[0;32m   1123\u001b[0m             )\n\u001b[0;32m   1125\u001b[0m \u001b[39m# Execute the query with the transport with a timeout\u001b[39;00m\n\u001b[1;32m-> 1126\u001b[0m result \u001b[39m=\u001b[39m \u001b[39mawait\u001b[39;00m asyncio\u001b[39m.\u001b[39mwait_for(\n\u001b[0;32m   1127\u001b[0m     \u001b[39mself\u001b[39m\u001b[39m.\u001b[39mtransport\u001b[39m.\u001b[39mexecute(\n\u001b[0;32m   1128\u001b[0m         document,\n\u001b[0;32m   1129\u001b[0m         variable_values\u001b[39m=\u001b[39mvariable_values,\n\u001b[0;32m   1130\u001b[0m         operation_name\u001b[39m=\u001b[39moperation_name,\n\u001b[0;32m   1131\u001b[0m         \u001b[39m*\u001b[39m\u001b[39m*\u001b[39mkwargs,\n\u001b[0;32m   1132\u001b[0m     ),\n\u001b[0;32m   1133\u001b[0m     \u001b[39mself\u001b[39m\u001b[39m.\u001b[39mclient\u001b[39m.\u001b[39mexecute_timeout,\n\u001b[0;32m   1134\u001b[0m )\n\u001b[0;32m   1136\u001b[0m \u001b[39m# Unserialize the result if requested\u001b[39;00m\n\u001b[0;32m   1137\u001b[0m \u001b[39mif\u001b[39;00m \u001b[39mself\u001b[39m\u001b[39m.\u001b[39mclient\u001b[39m.\u001b[39mschema:\n",
      "File \u001b[1;32mC:\\Program Files\\WindowsApps\\PythonSoftwareFoundation.Python.3.9_3.9.3568.0_x64__qbz5n2kfra8p0\\lib\\asyncio\\tasks.py:492\u001b[0m, in \u001b[0;36mwait_for\u001b[1;34m(fut, timeout, loop)\u001b[0m\n\u001b[0;32m    490\u001b[0m             \u001b[39mreturn\u001b[39;00m fut\u001b[39m.\u001b[39mresult()\n\u001b[0;32m    491\u001b[0m         \u001b[39mexcept\u001b[39;00m exceptions\u001b[39m.\u001b[39mCancelledError \u001b[39mas\u001b[39;00m exc:\n\u001b[1;32m--> 492\u001b[0m             \u001b[39mraise\u001b[39;00m exceptions\u001b[39m.\u001b[39mTimeoutError() \u001b[39mfrom\u001b[39;00m \u001b[39mexc\u001b[39;00m\n\u001b[0;32m    493\u001b[0m \u001b[39mfinally\u001b[39;00m:\n\u001b[0;32m    494\u001b[0m     timeout_handle\u001b[39m.\u001b[39mcancel()\n",
      "\u001b[1;31mTimeoutError\u001b[0m: "
     ]
    }
   ],
   "source": [
    "params = {\n",
    "  \"query\": \"applied math doi in:readme,description created:2023\",\n",
    "  \"first\": 50\n",
    "}\n",
    "try:\n",
    "  result = await client.execute_async(query, variable_values=params)\n",
    "except TimeoutError as e:\n",
    "  print(e)  "
   ]
  },
  {
   "cell_type": "code",
   "execution_count": null,
   "metadata": {},
   "outputs": [],
   "source": [
    "from json import dumps\n",
    "print(dumps(result))"
   ]
  }
 ],
 "metadata": {
  "kernelspec": {
   "display_name": "Python 3",
   "language": "python",
   "name": "python3"
  },
  "language_info": {
   "codemirror_mode": {
    "name": "ipython",
    "version": 3
   },
   "file_extension": ".py",
   "mimetype": "text/x-python",
   "name": "python",
   "nbconvert_exporter": "python",
   "pygments_lexer": "ipython3",
   "version": "3.9.13"
  }
 },
 "nbformat": 4,
 "nbformat_minor": 2
}
