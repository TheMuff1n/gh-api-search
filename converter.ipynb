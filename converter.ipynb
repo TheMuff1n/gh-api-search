{
 "cells": [
  {
   "cell_type": "markdown",
   "metadata": {},
   "source": [
    "Install dependencies"
   ]
  },
  {
   "cell_type": "code",
   "execution_count": 1,
   "metadata": {},
   "outputs": [],
   "source": [
    "%%capture\n",
    "! pip install markdown2 beautifulsoup4"
   ]
  },
  {
   "cell_type": "markdown",
   "metadata": {},
   "source": [
    "Import dependencies"
   ]
  },
  {
   "cell_type": "code",
   "execution_count": 2,
   "metadata": {},
   "outputs": [],
   "source": [
    "import markdown2\n",
    "from bs4 import BeautifulSoup\n",
    "import re"
   ]
  },
  {
   "cell_type": "markdown",
   "metadata": {},
   "source": [
    "Define functions, one for extracting the text visible to the user, one additionally extracting the href values from links"
   ]
  },
  {
   "cell_type": "code",
   "execution_count": 3,
   "metadata": {},
   "outputs": [],
   "source": [
    "def extract_raw_text_from_markdown(markdown_content):\n",
    "  html_content = markdown2.markdown(markdown_content)\n",
    "  soup = BeautifulSoup(html_content, 'html.parser')\n",
    "\n",
    "  raw_text = soup.get_text()\n",
    "  stripped_text = raw_text.strip()\n",
    "  cleaned_text = re.sub(r'\\n{2,}', '\\n', stripped_text)\n",
    "\n",
    "  return cleaned_text"
   ]
  },
  {
   "cell_type": "code",
   "execution_count": 4,
   "metadata": {},
   "outputs": [],
   "source": [
    "def extract_raw_text_from_markdown_with_links(markdown_content):\n",
    "  html_content = markdown2.markdown(markdown_content)\n",
    "  soup = BeautifulSoup(html_content, 'html.parser')\n",
    "\n",
    "  raw_text = \"\"\n",
    "  for element in soup.recursiveChildGenerator():\n",
    "    if isinstance(element, str):\n",
    "      raw_text += element\n",
    "    elif element.name == 'a':\n",
    "      link_text = element.get_text()\n",
    "      raw_text += link_text\n",
    "      link_href = element.get('href')\n",
    "      raw_text += f'({link_href}) '\n",
    "\n",
    "  return raw_text"
   ]
  },
  {
   "cell_type": "markdown",
   "metadata": {},
   "source": [
    "Run the code against an example file"
   ]
  },
  {
   "cell_type": "code",
   "execution_count": 5,
   "metadata": {},
   "outputs": [
    {
     "name": "stdout",
     "output_type": "stream",
     "text": [
      "ObsPy is an open-source project dedicated to provide a Python framework for processing seismological data. It provides parsers for common file formats, clients to access data centers and seismological signal processing routines which allow the manipulation of seismological time series (see Beyreuther et al. 2010, Megies et al. 2011, Krischer et al. 2015).\n",
      "The goal of the ObsPy project is to facilitate rapid application development for seismology.\n",
      "ObsPy is licensed under the GNU Lesser General Public License (LGPL) v3.0.\n",
      "A one-hour introduction to ObsPy is available at YouTube.\n",
      "Read more in our GitHub wiki\n",
      "Installation\n",
      "Installation instructions can be found in the wiki.\n",
      "Getting started\n",
      "Read about how to get started in the wiki and in our Tutorial section in the documentation.\n",
      "ObsPy Tutorial notebooks -- and much more on specific seismology topics -- can also be found on Seismo-Live, both as a static preview and as interactively runnable version.\n",
      "python\n",
      "from obspy import read\n",
      "st = read()  # load example seismogram\n",
      "st.filter(type='highpass', freq=3.0)\n",
      "st = st.select(component='Z')\n",
      "st.plot()\n",
      "Documentation and Changelog\n",
      "The detailed changelog is available here, our docs can be found at docs.obspy.org.\n",
      "Contributing\n",
      "Please see details on how to contribute to the project here.\n",
      "References\n",
      "Moritz Beyreuther, Robert Barsch, Lion Krischer, Tobias Megies, Yannik Behr and Joachim Wassermann (2010), ObsPy: A Python Toolbox for Seismology, SRL, 81(3), 530-533,  doi:10.1785/gssrl.81.3.530.\n",
      "Tobias Megies, Moritz Beyreuther, Robert Barsch, Lion Krischer, Joachim Wassermann (2011), ObsPy – What can it do for data centers and observatories? Annals Of Geophysics, 54(1), 47-58, doi:10.4401/ag-4838.\n",
      "Lion Krischer, Tobias Megies, Robert Barsch, Moritz Beyreuther, Thomas Lecocq, Corentin Caudron and Joachim Wassermann (2015), ObsPy: a bridge for seismology into the scientific Python ecosystem, Computational Science & Discovery, 8(1), 014003, doi:10.1088/1749-4699/8/1/014003\n",
      "concept DOI, that always resolves to latest ObsPy versions: 10.5281/zenodo.1040769 (see Zenodo FAQ)\n",
      "specific version DOIs for all released ObsPy versions\n",
      "Impact\n"
     ]
    }
   ],
   "source": [
    "input_file = 'example.md'\n",
    "with open(input_file, 'r', encoding='utf-8') as f:\n",
    "  markdown_content = f.read()\n",
    "raw_text = extract_raw_text_from_markdown(markdown_content)\n",
    "\n",
    "print(raw_text)"
   ]
  }
 ],
 "metadata": {
  "kernelspec": {
   "display_name": ".venv",
   "language": "python",
   "name": "python3"
  },
  "language_info": {
   "codemirror_mode": {
    "name": "ipython",
    "version": 3
   },
   "file_extension": ".py",
   "mimetype": "text/x-python",
   "name": "python",
   "nbconvert_exporter": "python",
   "pygments_lexer": "ipython3",
   "version": "3.10.12"
  }
 },
 "nbformat": 4,
 "nbformat_minor": 2
}
