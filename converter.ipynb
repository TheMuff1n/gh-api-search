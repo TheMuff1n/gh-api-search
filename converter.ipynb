{
 "cells": [
  {
   "cell_type": "markdown",
   "metadata": {},
   "source": [
    "Install dependencies"
   ]
  },
  {
   "cell_type": "code",
   "execution_count": null,
   "metadata": {},
   "outputs": [],
   "source": [
    "%%capture\n",
    "! pip install markdown2 beautifulsoup4"
   ]
  },
  {
   "cell_type": "markdown",
   "metadata": {},
   "source": [
    "Import dependencies"
   ]
  },
  {
   "cell_type": "code",
   "execution_count": null,
   "metadata": {},
   "outputs": [],
   "source": [
    "import markdown2\n",
    "from bs4 import BeautifulSoup\n",
    "import re"
   ]
  },
  {
   "cell_type": "markdown",
   "metadata": {},
   "source": [
    "Define functions, one for extracting the text visible to the user, one additionally extracting the href values from links"
   ]
  },
  {
   "cell_type": "code",
   "execution_count": null,
   "metadata": {},
   "outputs": [],
   "source": [
    "def extract_raw_text_from_markdown_file(input_file):\n",
    "  with open(input_file, 'r', encoding='utf-8') as f:\n",
    "    markdown_content = f.read()\n",
    "  \n",
    "  html_content = markdown2.markdown(markdown_content)\n",
    "  soup = BeautifulSoup(html_content, 'html.parser')\n",
    "\n",
    "  raw_text = soup.get_text()\n",
    "  stripped_text = raw_text.strip()\n",
    "  cleaned_text = re.sub(r'\\n{2,}', '\\n', stripped_text)\n",
    "\n",
    "  return cleaned_text"
   ]
  },
  {
   "cell_type": "code",
   "execution_count": null,
   "metadata": {},
   "outputs": [],
   "source": [
    "def extract_raw_text_from_markdown_file_with_links(input_file):\n",
    "  with open(input_file, 'r', encoding='utf-8') as f:\n",
    "    markdown_content = f.read()\n",
    "  \n",
    "  html_content = markdown2.markdown(markdown_content)\n",
    "  soup = BeautifulSoup(html_content, 'html.parser')\n",
    "\n",
    "  raw_text = \"\"\n",
    "  for element in soup.recursiveChildGenerator():\n",
    "    if isinstance(element, str):\n",
    "      raw_text += element\n",
    "    elif element.name == 'a':\n",
    "      link_text = element.get_text()\n",
    "      raw_text += link_text\n",
    "      link_href = element.get('href')\n",
    "      raw_text += f'({link_href}) '\n",
    "\n",
    "  return raw_text"
   ]
  },
  {
   "cell_type": "markdown",
   "metadata": {},
   "source": [
    "Run the code against an example file"
   ]
  },
  {
   "cell_type": "code",
   "execution_count": null,
   "metadata": {},
   "outputs": [],
   "source": [
    "input_file = 'example.md'\n",
    "raw_text = extract_raw_text_from_markdown_file(input_file)\n",
    "\n",
    "print(raw_text)"
   ]
  }
 ],
 "metadata": {
  "kernelspec": {
   "display_name": ".venv",
   "language": "python",
   "name": "python3"
  },
  "language_info": {
   "codemirror_mode": {
    "name": "ipython",
    "version": 3
   },
   "file_extension": ".py",
   "mimetype": "text/x-python",
   "name": "python",
   "nbconvert_exporter": "python",
   "pygments_lexer": "ipython3",
   "version": "3.10.12"
  }
 },
 "nbformat": 4,
 "nbformat_minor": 2
}
